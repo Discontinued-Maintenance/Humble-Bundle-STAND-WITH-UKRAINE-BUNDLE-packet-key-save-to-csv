{
 "cells": [
  {
   "cell_type": "code",
   "execution_count": null,
   "id": "37545d1e",
   "metadata": {},
   "outputs": [],
   "source": [
    "import csv\n",
    "from selenium import webdriver\n",
    "from IPython.core.display import HTML\n",
    "from selenium.webdriver.common.by import By"
   ]
  },
  {
   "cell_type": "code",
   "execution_count": null,
   "id": "361edfb4",
   "metadata": {},
   "outputs": [],
   "source": [
    "driver = webdriver.Chrome()\n",
    "driver.get(\"https://www.humblebundle.com/login?hmb_source=navbar&goto=%2F\")"
   ]
  },
  {
   "cell_type": "markdown",
   "id": "51d249dc",
   "metadata": {},
   "source": [
    "<h2>執行到此步驟請先登入完畢後再執行下一步驟<br>"
   ]
  },
  {
   "cell_type": "code",
   "execution_count": null,
   "id": "b681849a",
   "metadata": {},
   "outputs": [],
   "source": [
    "driver.get(\"https://www.humblebundle.com/home/purchases?hmb_source=navbar\")\n",
    "\n",
    "bought = False\n",
    "\n",
    "for product in driver.find_elements(By.CLASS_NAME, 'product-name'):\n",
    "    if product.text == \"Stand with Ukraine Bundle\":\n",
    "        bought =True\n",
    "        product.click()\n",
    "        driver.switch_to.window(driver.window_handles[-1])\n",
    "        driver.execute_script(\"var action=document.documentElement.scrollTop=100000\")\n",
    "        break\n",
    "        \n",
    "if bought:\n",
    "    display(HTML('<div class = \"alert alert-block alert-info\"><b>已幫您開啟新視窗無須緊張，請繼續前往下一步驟</b>！！</div>'))\n",
    "else:\n",
    "    display(HTML('<div class = \"alert alert-block alert-danger\"><b>您尚未購買Stand with Ukraine Bundle包，請購買後再次執行此步驟</b>！！</div>'))"
   ]
  },
  {
   "cell_type": "code",
   "execution_count": null,
   "id": "f5627efd",
   "metadata": {},
   "outputs": [],
   "source": [
    "display(HTML('<div class = \"alert alert-block alert-info\"><b>現在您只需要耐心等待最後一個密鑰出現！！</b><br><br><b>當最後一格密鑰成功加載後即可前往下一步！！</b></div>'))\n",
    "for Open in driver.find_elements(By.CLASS_NAME, 'keyfield-value'):\n",
    "    try:\n",
    "        Open.click()\n",
    "    except:\n",
    "        pass"
   ]
  },
  {
   "cell_type": "markdown",
   "id": "ce4fcbe3",
   "metadata": {},
   "source": [
    "<h2>在執行下一步驟前請確認，網頁上最後一組密成功加載！<br>"
   ]
  },
  {
   "cell_type": "code",
   "execution_count": null,
   "id": "ca69a98e",
   "metadata": {},
   "outputs": [],
   "source": [
    "allData = []\n",
    "for Findkey in driver.find_elements(By.CLASS_NAME, 'key-redeemer'):\n",
    "    try:\n",
    "        array = []\n",
    "        array.append(Findkey.find_element(By.CLASS_NAME, 'heading-text').text)\n",
    "        array.append(Findkey.find_element(By.CLASS_NAME, 'keyfield-value').text)\n",
    "        allData.append(array)\n",
    "    except:\n",
    "        display(HTML('<div class = \"alert alert-block alert-danger\"><b>產品：' + Findkey.find_element(By.CLASS_NAME, 'heading-text').text + '，無兌換序號，請自行手動兌換！</b>！！</div>'))\n",
    "display(HTML('<div class = \"alert alert-block alert-info\"><b>所有序號加載完畢請執行最後一步！</b></div>'))"
   ]
  },
  {
   "cell_type": "code",
   "execution_count": null,
   "id": "808da705",
   "metadata": {},
   "outputs": [],
   "source": [
    "with open('STAND WITH UKRAINE BUNDLE.csv', 'w', newline='') as file:\n",
    "    writer = csv.writer(file, quoting=csv.QUOTE_ALL,delimiter=',')\n",
    "    writer.writerows(allData)\n",
    "display(HTML('<div class = \"alert alert-block alert-info\"><b>成功將儲存Stand with Ukraine Bundle.csv在您的電腦上！</b></div>'))"
   ]
  }
 ],
 "metadata": {
  "kernelspec": {
   "display_name": "Python 3 (ipykernel)",
   "language": "python",
   "name": "python3"
  },
  "language_info": {
   "codemirror_mode": {
    "name": "ipython",
    "version": 3
   },
   "file_extension": ".py",
   "mimetype": "text/x-python",
   "name": "python",
   "nbconvert_exporter": "python",
   "pygments_lexer": "ipython3",
   "version": "3.9.11"
  }
 },
 "nbformat": 4,
 "nbformat_minor": 5
}
